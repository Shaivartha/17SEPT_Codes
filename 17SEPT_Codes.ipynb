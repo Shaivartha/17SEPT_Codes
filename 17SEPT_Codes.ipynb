{
  "nbformat": 4,
  "nbformat_minor": 0,
  "metadata": {
    "colab": {
      "provenance": [],
      "authorship_tag": "ABX9TyNsK/XVxFXxUbTsqcgQMBd6",
      "include_colab_link": true
    },
    "kernelspec": {
      "name": "python3",
      "display_name": "Python 3"
    },
    "language_info": {
      "name": "python"
    }
  },
  "cells": [
    {
      "cell_type": "markdown",
      "metadata": {
        "id": "view-in-github",
        "colab_type": "text"
      },
      "source": [
        "<a href=\"https://colab.research.google.com/github/Shaivartha/17SEPT_Codes/blob/main/17SEPT_Codes.ipynb\" target=\"_parent\"><img src=\"https://colab.research.google.com/assets/colab-badge.svg\" alt=\"Open In Colab\"/></a>"
      ]
    },
    {
      "cell_type": "code",
      "source": [
        "# Control Flow Tools\n",
        "# if Statements\n",
        "x = int(input(\"Please enter an integer: \"))\n",
        "\n",
        "if x < 0:\n",
        "    x = 0\n",
        "    print('Negative changed to zero')\n",
        "elif x == 0:\n",
        "    print('Zero')\n",
        "elif x == 1:\n",
        "    print('Single')\n",
        "else:\n",
        "    print('More')"
      ],
      "metadata": {
        "colab": {
          "base_uri": "https://localhost:8080/"
        },
        "id": "72KpeWV5g3Z-",
        "outputId": "5bd9e0c9-9f86-4e19-8609-2d0f9744085e"
      },
      "execution_count": 12,
      "outputs": [
        {
          "output_type": "stream",
          "name": "stdout",
          "text": [
            "Please enter an integer: 24\n",
            "More\n"
          ]
        }
      ]
    },
    {
      "cell_type": "code",
      "source": [
        "#prime number\n",
        "for n in range(2,10):\n",
        "  for x in range(2,10):\n",
        "    if n%x == 0:\n",
        "      break\n",
        "    else:\n",
        "      print(n,\"is a prime number\")\n",
        "      break\n"
      ],
      "metadata": {
        "colab": {
          "base_uri": "https://localhost:8080/"
        },
        "id": "jD4xtw0zSIFU",
        "outputId": "fc9e11c0-172c-4d3a-8884-f2f10fbd77c4"
      },
      "execution_count": 5,
      "outputs": [
        {
          "output_type": "stream",
          "name": "stdout",
          "text": [
            "3 is a prime number\n",
            "5 is a prime number\n",
            "7 is a prime number\n",
            "9 is a prime number\n"
          ]
        }
      ]
    },
    {
      "cell_type": "code",
      "source": [
        "#movie review program Using normal method\n",
        "\n",
        "review1 = \"The movie unfirgiven is good\"\n",
        "review2 = \"The movie unfirgiven is good\"\n",
        "review3 = \"The movie unfirgiven is slow\"\n",
        "\n",
        "reviews = [review1, review2, review3]\n",
        "\n",
        "bagOfWords = ['good', 'bad', 'slow']\n",
        "rev1_tokens = reviews[0].split()\n",
        "rev2_tokens = reviews[1].split()\n",
        "rev3_tokens = reviews[2].split()\n",
        "\n",
        "#print(rev1_tokens)\n",
        "\n",
        "goodCounter = 0\n",
        "badCounter = 0\n",
        "\n",
        "for sentence in reviews:\n",
        "  listOfTokens = sentence.split()\n",
        "  for token in listOfTokens:\n",
        "    #good\n",
        "    if(token == bagOfWords[0]):\n",
        "      goodCounter = goodCounter+1\n",
        "    #bad\n",
        "    elif(token == bagOfWords[1]):\n",
        "      badCounter = badCounter+1\n",
        "    elif(token == bagOfWords[2]):\n",
        "      badCounter = badCounter+1\n",
        "    else:\n",
        "      continue\n",
        "print(\"GoodCounter: \",goodCounter)\n",
        "print(\"BadCounter: \",badCounter)\n",
        "\n",
        "if(badCounter>goodCounter):\n",
        "  print(\"Movie Review was Bad\")\n",
        "else:\n",
        "  print(\"Moview Review was Good\")"
      ],
      "metadata": {
        "id": "zYLSFtCUVl56",
        "colab": {
          "base_uri": "https://localhost:8080/"
        },
        "outputId": "a53db24a-a05c-4781-a02b-b8428744efb4"
      },
      "execution_count": 16,
      "outputs": [
        {
          "output_type": "stream",
          "name": "stdout",
          "text": [
            "GoodCounter:  2\n",
            "BadCounter:  1\n",
            "Moview Review was Good\n"
          ]
        }
      ]
    },
    {
      "cell_type": "code",
      "source": [
        "# Using Variable and Match Case\n",
        "\n",
        "review1 = \"The movie unforgiven is good\"\n",
        "review2 = \"The movie unforgiven is bad\"\n",
        "review3 = \"The movie unforgiven is slow\"\n",
        "\n",
        "reviews = [review1, review2, review3]\n",
        "\n",
        "bagOfWords = ['good', 'bad', 'slow']\n",
        "\n",
        "goodCounter = 0\n",
        "badCounter = 0\n",
        "\n",
        "for sentence in reviews:\n",
        "    listOfTokens = sentence.split()\n",
        "    for token in listOfTokens:\n",
        "        # good\n",
        "        if token == bagOfWords[0]:\n",
        "            goodCounter += 1\n",
        "        # bad\n",
        "        elif token == bagOfWords[1]:\n",
        "            badCounter += 1\n",
        "        elif token == bagOfWords[2]:\n",
        "            badCounter += 1\n",
        "\n",
        "print(\"GoodCounter: \",goodCounter)\n",
        "print(\"BadCounter: \",badCounter)\n",
        "\n",
        "classOfMovie = \"good\"\n",
        "\n",
        "if(goodCounter > badCounter):\n",
        "    pass\n",
        "else:\n",
        "    classOfMovie = \"bad\"\n",
        "\n",
        "match(classOfMovie):\n",
        "    case 'good':\n",
        "        print(\"the movie is a good movie!\")\n",
        "    case 'bad':\n",
        "        print(\"the movie is a bad movie!\")\n"
      ],
      "metadata": {
        "colab": {
          "base_uri": "https://localhost:8080/"
        },
        "id": "rVOQvruxiuEQ",
        "outputId": "ec43b3d0-7ae6-4297-8d6c-46261795f614"
      },
      "execution_count": 17,
      "outputs": [
        {
          "output_type": "stream",
          "name": "stdout",
          "text": [
            "GoodCounter:  1\n",
            "BadCounter:  2\n",
            "the movie is a bad movie!\n"
          ]
        }
      ]
    }
  ]
}